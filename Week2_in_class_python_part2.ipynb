{
  "nbformat": 4,
  "nbformat_minor": 0,
  "metadata": {
    "colab": {
      "provenance": [],
      "authorship_tag": "ABX9TyOylkUFpROnbZ+CVnfhoa+5",
      "include_colab_link": true
    },
    "kernelspec": {
      "name": "python3",
      "display_name": "Python 3"
    },
    "language_info": {
      "name": "python"
    }
  },
  "cells": [
    {
      "cell_type": "markdown",
      "metadata": {
        "id": "view-in-github",
        "colab_type": "text"
      },
      "source": [
        "<a href=\"https://colab.research.google.com/github/aneal191/Data110/blob/main/Week2_in_class_python_part2.ipynb\" target=\"_parent\"><img src=\"https://colab.research.google.com/assets/colab-badge.svg\" alt=\"Open In Colab\"/></a>"
      ]
    },
    {
      "cell_type": "code",
      "execution_count": 7,
      "metadata": {
        "id": "R0is1B6RhTPz"
      },
      "outputs": [],
      "source": [
        "import matplotlib.pyplot as plt\n",
        "import numpy as np\n",
        "import pandas as pd"
      ]
    },
    {
      "cell_type": "code",
      "source": [
        "#load the dataset\n",
        "\n",
        "#df=pd.read_csv('/content/happiness_2017.csv')\n",
        "df=pd.read_csv('https://raw.githubusercontent.com/aneal191/Data110-22016/main/dataset/happiness_2017.csv')\n",
        "print(df.head())\n",
        "\n"
      ],
      "metadata": {
        "colab": {
          "base_uri": "https://localhost:8080/"
        },
        "id": "NDwo1Ap4it3R",
        "outputId": "2348d1c5-499b-483a-f88a-fcbbcb77fe32"
      },
      "execution_count": 14,
      "outputs": [
        {
          "output_type": "stream",
          "name": "stdout",
          "text": [
            "       Country          Region  Rank  HappinessScore  Life Ladder  \\\n",
            "0       Norway  Western Europe     1           7.537     7.578745   \n",
            "1      Denmark  Western Europe     2           7.522     7.593702   \n",
            "2      Iceland  Western Europe     3           7.504     7.476214   \n",
            "3  Switzerland  Western Europe     4           7.494     7.473593   \n",
            "4      Finland  Western Europe     5           7.469     7.788252   \n",
            "\n",
            "   Log GDP per capita  Social support  Healthy life expectancy at birth  \\\n",
            "0           11.081789        0.950128                         71.086586   \n",
            "1           10.748989        0.952100                         71.662498   \n",
            "2           10.760409        0.966753                         72.755981   \n",
            "3           10.955548        0.949661                         73.173759   \n",
            "4           10.612338        0.963826                         71.696960   \n",
            "\n",
            "   Freedom to make life choices  Generosity  Perceptions of corruption  \\\n",
            "0                      0.953017    0.210104                   0.249711   \n",
            "1                      0.955416    0.145387                   0.181148   \n",
            "2                      0.938783    0.235479                   0.726845   \n",
            "3                      0.924997    0.167875                   0.316183   \n",
            "4                      0.962199   -0.012174                   0.192413   \n",
            "\n",
            "   Positive affect  Negative affect  Confidence in national government  \n",
            "0         0.849100         0.202914                           0.717160  \n",
            "1         0.823667         0.205775                           0.572353  \n",
            "2         0.895255         0.148160                           0.365042  \n",
            "3         0.773997         0.195871                           0.819707  \n",
            "4         0.787137         0.176066                           0.597539  \n"
          ]
        }
      ]
    },
    {
      "cell_type": "code",
      "source": [
        "print(df.describe())"
      ],
      "metadata": {
        "colab": {
          "base_uri": "https://localhost:8080/"
        },
        "id": "O0qfKHojkTRL",
        "outputId": "b99d0b39-3853-4575-8549-2f0af71e127b"
      },
      "execution_count": 12,
      "outputs": [
        {
          "output_type": "stream",
          "name": "stdout",
          "text": [
            "           Rank  HappinessScore  Life Ladder  Log GDP per capita  \\\n",
            "count  140.0000      140.000000   140.000000          133.000000   \n",
            "mean    70.5000        5.398907     5.491702            9.345615   \n",
            "std     40.5586        1.109750     1.122178            1.184935   \n",
            "min      1.0000        2.693000     2.661718            6.625341   \n",
            "25%     35.7500        4.542500     4.636694            8.545789   \n",
            "50%     70.5000        5.302000     5.586507            9.547693   \n",
            "75%    105.2500        6.212000     6.278276           10.313942   \n",
            "max    140.0000        7.537000     7.788252           11.465231   \n",
            "\n",
            "       Social support  Healthy life expectancy at birth  \\\n",
            "count      139.000000                        140.000000   \n",
            "mean         0.806711                         63.440981   \n",
            "std          0.121117                          7.595597   \n",
            "min          0.319589                         44.386528   \n",
            "25%          0.736748                         58.005130   \n",
            "50%          0.828953                         65.209110   \n",
            "75%          0.905827                         69.062944   \n",
            "max          0.966753                         76.536362   \n",
            "\n",
            "       Freedom to make life choices  Generosity  Perceptions of corruption  \\\n",
            "count                    139.000000  132.000000                 128.000000   \n",
            "mean                       0.777874   -0.011614                   0.735870   \n",
            "std                        0.127969    0.161064                   0.179799   \n",
            "min                        0.427011   -0.296735                   0.161791   \n",
            "25%                        0.711635   -0.141405                   0.681880   \n",
            "50%                        0.811671   -0.035203                   0.782116   \n",
            "75%                        0.878373    0.098457                   0.857171   \n",
            "max                        0.985178    0.628706                   0.954393   \n",
            "\n",
            "       Positive affect  Negative affect  Confidence in national government  \n",
            "count       139.000000       139.000000                         127.000000  \n",
            "mean          0.699412         0.291164                           0.493701  \n",
            "std           0.107246         0.091985                           0.198235  \n",
            "min           0.420962         0.114123                           0.110937  \n",
            "25%           0.614203         0.219028                           0.333884  \n",
            "50%           0.710230         0.280323                           0.473544  \n",
            "75%           0.788236         0.345125                           0.617711  \n",
            "max           0.895255         0.599335                           0.964690  \n"
          ]
        }
      ]
    }
  ]
}