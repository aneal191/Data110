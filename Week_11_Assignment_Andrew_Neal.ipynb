{
  "nbformat": 4,
  "nbformat_minor": 0,
  "metadata": {
    "colab": {
      "provenance": [],
      "authorship_tag": "ABX9TyMDRxwhaqXn6N8diqIWdhaz",
      "include_colab_link": true
    },
    "kernelspec": {
      "name": "python3",
      "display_name": "Python 3"
    },
    "language_info": {
      "name": "python"
    }
  },
  "cells": [
    {
      "cell_type": "markdown",
      "metadata": {
        "id": "view-in-github",
        "colab_type": "text"
      },
      "source": [
        "<a href=\"https://colab.research.google.com/github/aneal191/Data110/blob/main/Week_11_Assignment_Andrew_Neal.ipynb\" target=\"_parent\"><img src=\"https://colab.research.google.com/assets/colab-badge.svg\" alt=\"Open In Colab\"/></a>"
      ]
    },
    {
      "cell_type": "code",
      "execution_count": 19,
      "metadata": {
        "colab": {
          "base_uri": "https://localhost:8080/",
          "height": 332
        },
        "id": "p4SNlKe8EV6d",
        "outputId": "062382e5-a57e-4b63-9044-e2a1640617cb"
      },
      "outputs": [
        {
          "output_type": "error",
          "ename": "FileNotFoundError",
          "evalue": "[Errno 2] No such file or directory: '/root/Downloads/Gender_Heatmap_Arrests.html'",
          "traceback": [
            "\u001b[0;31m---------------------------------------------------------------------------\u001b[0m",
            "\u001b[0;31mFileNotFoundError\u001b[0m                         Traceback (most recent call last)",
            "\u001b[0;32m<ipython-input-19-8dfaa0e066d4>\u001b[0m in \u001b[0;36m<cell line: 43>\u001b[0;34m()\u001b[0m\n\u001b[1;32m     41\u001b[0m \u001b[0;31m# Save the map as an HTML file to the Downloads folder\u001b[0m\u001b[0;34m\u001b[0m\u001b[0;34m\u001b[0m\u001b[0m\n\u001b[1;32m     42\u001b[0m \u001b[0mdownloads_path\u001b[0m \u001b[0;34m=\u001b[0m \u001b[0mos\u001b[0m\u001b[0;34m.\u001b[0m\u001b[0mpath\u001b[0m\u001b[0;34m.\u001b[0m\u001b[0mexpanduser\u001b[0m\u001b[0;34m(\u001b[0m\u001b[0;34m\"~/Downloads/Gender_Heatmap_Arrests.html\"\u001b[0m\u001b[0;34m)\u001b[0m\u001b[0;34m\u001b[0m\u001b[0;34m\u001b[0m\u001b[0m\n\u001b[0;32m---> 43\u001b[0;31m \u001b[0mheatmap_map\u001b[0m\u001b[0;34m.\u001b[0m\u001b[0msave\u001b[0m\u001b[0;34m(\u001b[0m\u001b[0mdownloads_path\u001b[0m\u001b[0;34m)\u001b[0m\u001b[0;34m\u001b[0m\u001b[0;34m\u001b[0m\u001b[0m\n\u001b[0m\u001b[1;32m     44\u001b[0m \u001b[0;34m\u001b[0m\u001b[0m\n\u001b[1;32m     45\u001b[0m \u001b[0mprint\u001b[0m\u001b[0;34m(\u001b[0m\u001b[0;34mf\"Heatmap HTML file saved to: {downloads_path}\"\u001b[0m\u001b[0;34m)\u001b[0m\u001b[0;34m\u001b[0m\u001b[0;34m\u001b[0m\u001b[0m\n",
            "\u001b[0;32m/usr/local/lib/python3.10/dist-packages/branca/element.py\u001b[0m in \u001b[0;36msave\u001b[0;34m(self, outfile, close_file, **kwargs)\u001b[0m\n\u001b[1;32m    221\u001b[0m         \u001b[0mfid\u001b[0m\u001b[0;34m:\u001b[0m \u001b[0mBinaryIO\u001b[0m\u001b[0;34m\u001b[0m\u001b[0;34m\u001b[0m\u001b[0m\n\u001b[1;32m    222\u001b[0m         \u001b[0;32mif\u001b[0m \u001b[0misinstance\u001b[0m\u001b[0;34m(\u001b[0m\u001b[0moutfile\u001b[0m\u001b[0;34m,\u001b[0m \u001b[0;34m(\u001b[0m\u001b[0mstr\u001b[0m\u001b[0;34m,\u001b[0m \u001b[0mbytes\u001b[0m\u001b[0;34m,\u001b[0m \u001b[0mPath\u001b[0m\u001b[0;34m)\u001b[0m\u001b[0;34m)\u001b[0m\u001b[0;34m:\u001b[0m\u001b[0;34m\u001b[0m\u001b[0;34m\u001b[0m\u001b[0m\n\u001b[0;32m--> 223\u001b[0;31m             \u001b[0mfid\u001b[0m \u001b[0;34m=\u001b[0m \u001b[0mopen\u001b[0m\u001b[0;34m(\u001b[0m\u001b[0moutfile\u001b[0m\u001b[0;34m,\u001b[0m \u001b[0;34m\"wb\"\u001b[0m\u001b[0;34m)\u001b[0m\u001b[0;34m\u001b[0m\u001b[0;34m\u001b[0m\u001b[0m\n\u001b[0m\u001b[1;32m    224\u001b[0m         \u001b[0;32melse\u001b[0m\u001b[0;34m:\u001b[0m\u001b[0;34m\u001b[0m\u001b[0;34m\u001b[0m\u001b[0m\n\u001b[1;32m    225\u001b[0m             \u001b[0mfid\u001b[0m \u001b[0;34m=\u001b[0m \u001b[0moutfile\u001b[0m\u001b[0;34m\u001b[0m\u001b[0;34m\u001b[0m\u001b[0m\n",
            "\u001b[0;31mFileNotFoundError\u001b[0m: [Errno 2] No such file or directory: '/root/Downloads/Gender_Heatmap_Arrests.html'"
          ]
        }
      ],
      "source": [
        "import folium\n",
        "from folium.plugins import HeatMap\n",
        "import pandas as pd\n",
        "import os\n",
        "\n",
        "# Load the dataset\n",
        "file_path = 'https://raw.githubusercontent.com/aneal191/Data110/refs/heads/main/Dataset/BPD_Arrests.csv'\n",
        "bpd_arrests_data = pd.read_csv(file_path)\n",
        "\n",
        "# Filter data by Gender\n",
        "male_data = bpd_arrests_data[bpd_arrests_data['Gender'] == 'M']\n",
        "female_data = bpd_arrests_data[bpd_arrests_data['Gender'] == 'F']\n",
        "\n",
        "# Initialize a Folium map centered on the dataset's median location\n",
        "map_center = [bpd_arrests_data['Latitude'].median(), bpd_arrests_data['Longitude'].median()]\n",
        "heatmap_map = folium.Map(location=map_center, zoom_start=12)\n",
        "\n",
        "# Add a heatmap layer for male arrests\n",
        "male_heatmap = HeatMap(\n",
        "    male_data[['Latitude', 'Longitude']].dropna().values.tolist(),\n",
        "    name=\"Male Arrests\",\n",
        "    radius=10,\n",
        "    blur=15,\n",
        "    gradient={0.4: 'blue', 0.65: 'lime', 1: 'red'}\n",
        ")\n",
        "heatmap_map.add_child(male_heatmap)\n",
        "\n",
        "# Add a heatmap layer for female arrests\n",
        "female_heatmap = HeatMap(\n",
        "    female_data[['Latitude', 'Longitude']].dropna().values.tolist(),\n",
        "    name=\"Female Arrests\",\n",
        "    radius=10,\n",
        "    blur=15,\n",
        "    gradient={0.4: 'purple', 0.65: 'orange', 1: 'red'}\n",
        ")\n",
        "heatmap_map.add_child(female_heatmap)\n",
        "\n",
        "# Add a layer control to toggle layers\n",
        "folium.LayerControl().add_to(heatmap_map)\n",
        "\n",
        "# Save the map as an HTML file to the Downloads folder\n",
        "downloads_path = os.path.expanduser(\"~/Downloads/Gender_Heatmap_Arrests.html\")\n",
        "heatmap_map.save(downloads_path)\n",
        "\n",
        "print(f\"Heatmap HTML file saved to: {downloads_path}\")"
      ]
    }
  ]
}